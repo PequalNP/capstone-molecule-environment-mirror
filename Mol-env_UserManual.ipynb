{
 "cells": [
  {
   "cell_type": "markdown",
   "metadata": {},
   "source": [
    "# Molecule Envirnoment User Manual"
   ]
  },
  {
   "cell_type": "markdown",
   "metadata": {},
   "source": [
    "### Imports"
   ]
  },
  {
   "cell_type": "code",
   "execution_count": 9,
   "metadata": {
    "scrolled": true
   },
   "outputs": [
    {
     "ename": "SyntaxError",
     "evalue": "invalid syntax (molecule_env.py, line 33)",
     "output_type": "error",
     "traceback": [
      "Traceback \u001b[1;36m(most recent call last)\u001b[0m:\n",
      "  File \u001b[0;32m\"C:\\Users\\Nkateko\\Anaconda3\\envs\\mol-env\\lib\\site-packages\\IPython\\core\\interactiveshell.py\"\u001b[0m, line \u001b[0;32m3417\u001b[0m, in \u001b[0;35mrun_code\u001b[0m\n    exec(code_obj, self.user_global_ns, self.user_ns)\n",
      "  File \u001b[0;32m\"<ipython-input-9-d2532beb9e00>\"\u001b[0m, line \u001b[0;32m1\u001b[0m, in \u001b[0;35m<module>\u001b[0m\n    import gym_molecule.envs.molecule_env as mv\n",
      "\u001b[1;36m  File \u001b[1;32m\"C:\\Users\\Nkateko\\Desktop\\CSC3003S\\capstone-molecule-environment\\gym_molecule\\envs\\__init__.py\"\u001b[1;36m, line \u001b[1;32m1\u001b[1;36m, in \u001b[1;35m<module>\u001b[1;36m\u001b[0m\n\u001b[1;33m    from gym_molecule.envs.molecule_env import MoleculeEnvironment\u001b[0m\n",
      "\u001b[1;36m  File \u001b[1;32m\"C:\\Users\\Nkateko\\Desktop\\CSC3003S\\capstone-molecule-environment\\gym_molecule\\envs\\molecule_env.py\"\u001b[1;36m, line \u001b[1;32m33\u001b[0m\n\u001b[1;33m    \"morgan_zero\": [0,0,0,1,0,1,0...0],\u001b[0m\n\u001b[1;37m                                    ^\u001b[0m\n\u001b[1;31mSyntaxError\u001b[0m\u001b[1;31m:\u001b[0m invalid syntax\n"
     ]
    }
   ],
   "source": [
    "import gym_molecule.envs.molecule_env as mv\n",
    "import gym_molecule.envs.action as action"
   ]
  },
  {
   "cell_type": "markdown",
   "metadata": {},
   "source": [
    "### Initialising _molecule_env_"
   ]
  },
  {
   "cell_type": "code",
   "execution_count": null,
   "metadata": {},
   "outputs": [],
   "source": [
    "env = MolEnv()"
   ]
  }
 ],
 "metadata": {
  "kernelspec": {
   "display_name": "Python [conda env:mol-env] *",
   "language": "python",
   "name": "conda-env-mol-env-py"
  },
  "language_info": {
   "codemirror_mode": {
    "name": "ipython",
    "version": 3
   },
   "file_extension": ".py",
   "mimetype": "text/x-python",
   "name": "python",
   "nbconvert_exporter": "python",
   "pygments_lexer": "ipython3",
   "version": "3.7.7"
  }
 },
 "nbformat": 4,
 "nbformat_minor": 4
}
