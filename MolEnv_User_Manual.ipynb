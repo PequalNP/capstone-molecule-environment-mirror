{
 "cells": [
  {
   "cell_type": "markdown",
   "metadata": {},
   "source": [
    "# Molecule Envirnoment User Manual"
   ]
  },
  {
   "cell_type": "markdown",
   "metadata": {},
   "source": [
    "### Imports"
   ]
  },
  {
   "cell_type": "code",
   "execution_count": 1,
   "metadata": {
    "scrolled": true
   },
   "outputs": [],
   "source": [
    "from gym_molecule.envs.molecule_env import MoleculeEnvironment as MolEnv\n",
    "from gym_molecule.envs.action import Action\n"
   ]
  },
  {
   "cell_type": "markdown",
   "metadata": {},
   "source": [
    "### Initialising _molecule_env_"
   ]
  },
  {
   "cell_type": "code",
   "execution_count": 2,
   "metadata": {},
   "outputs": [
    {
     "name": "stdout",
     "output_type": "stream",
     "text": [
      "[]\n",
      "[0.6361]\n",
      "[16.043]\n",
      "-0.31659779999999993\n",
      "2.4491331818181843\n",
      "204.6316748251749\n",
      "-2.9947762237762214\n",
      "No display found!\n"
     ]
    }
   ],
   "source": [
    "my_env = MolEnv()"
   ]
  },
  {
   "cell_type": "markdown",
   "metadata": {},
   "source": [
    "MoleculeEnvironment Initialises to a single carbon atom ('C')  we can display this by running render() method."
   ]
  },
  {
   "cell_type": "code",
   "execution_count": 3,
   "metadata": {},
   "outputs": [
    {
     "data": {
      "image/png": "[encoded data removed]",
      "text/plain": [
       "<PIL.PngImagePlugin.PngImageFile image mode=RGB size=200x200 at 0x1DDE1136B48>"
      ]
     },
     "execution_count": 3,
     "metadata": {},
     "output_type": "execute_result"
    }
   ],
   "source": [
    "my_env.render()"
   ]
  },
  {
   "cell_type": "markdown",
   "metadata": {},
   "source": [
    "Create Action and call setAction method to specify the step you want to perform."
   ]
  },
  {
   "cell_type": "code",
   "execution_count": 4,
   "metadata": {},
   "outputs": [],
   "source": [
    "action = Action()\n",
    "action.setAction('Add',pos='back',mol='C(=O)O')"
   ]
  },
  {
   "cell_type": "markdown",
   "metadata": {},
   "source": [
    "Call the step method with the action you want to perform as an argument"
   ]
  },
  {
   "cell_type": "code",
   "execution_count": 5,
   "metadata": {},
   "outputs": [
    {
     "name": "stdout",
     "output_type": "stream",
     "text": [
      "['SingleAtomDonor' 'SingleAtomAcceptor' 'SingleAtomAcceptor' 'AcidicGroup']\n",
      "[0.6361]\n",
      "[16.043]\n",
      "-0.31659779999999993\n",
      "2.4491331818181843\n",
      "204.6316748251749\n",
      "-2.9947762237762214\n"
     ]
    },
    {
     "data": {
      "image/png": "[encoded data removed]",
      "text/plain": [
       "<PIL.PngImagePlugin.PngImageFile image mode=RGB size=400x200 at 0x1DDE152D9C8>"
      ]
     },
     "execution_count": 5,
     "metadata": {},
     "output_type": "execute_result"
    }
   ],
   "source": [
    "my_env.step(action)\n",
    "my_env.render()"
   ]
  },
  {
   "cell_type": "markdown",
   "metadata": {},
   "source": [
    "The first positional argument specifies whether you want 'add' or 'remove' a feature. You can set the Atom / molecular substructure by setting the mol to a SMILES string  specify where you want to add the smile string by setting pos as 'front' or 'back'. "
   ]
  },
  {
   "cell_type": "code",
   "execution_count": null,
   "metadata": {},
   "outputs": [
    {
     "name": "stdout",
     "output_type": "stream",
     "text": [
      "['Arom6' 'RH6_6']\n",
      "[0.6361]\n",
      "[16.043]\n",
      "-0.31659779999999993\n",
      "2.4491331818181843\n",
      "204.6316748251749\n",
      "-2.9947762237762214\n"
     ]
    }
   ],
   "source": [
    "action.setAction('Add',pos='front',mol='C1=CC=CC=C1')\n",
    "my_env.step(action)\n",
    "my_env.render()"
   ]
  },
  {
   "cell_type": "markdown",
   "metadata": {},
   "source": [
    "### Adding elements to a molecule"
   ]
  },
  {
   "cell_type": "markdown",
   "metadata": {},
   "source": [
    "As seen below we using the arguments to specify action, position and substructur/atom to be added. In order to add we set 'add' in the first positional argument position."
   ]
  },
  {
   "cell_type": "code",
   "execution_count": null,
   "metadata": {},
   "outputs": [],
   "source": [
    "action.setAction('Add',pos='front',mol='C(=O)O')\n",
    "my_obs = my_env.step(action)\n",
    "my_env.render()"
   ]
  },
  {
   "cell_type": "code",
   "execution_count": null,
   "metadata": {},
   "outputs": [],
   "source": [
    "action.setAction('Add',pos='back',mol='CCC')\n",
    "my_obs = my_env.step(action)\n",
    "my_env.render()"
   ]
  },
  {
   "cell_type": "markdown",
   "metadata": {},
   "source": [
    "### Removing elements to a molecule"
   ]
  },
  {
   "cell_type": "markdown",
   "metadata": {},
   "source": [
    "As seen below we using the arguments to specify action, position and substructur/atom to be added. In order to remove we set 'remove' in the first positional argument position."
   ]
  },
  {
   "cell_type": "code",
   "execution_count": null,
   "metadata": {},
   "outputs": [],
   "source": [
    "action.setAction('remove',pos='back',mol='CCC')\n",
    "my_obs = my_env.step(action)\n",
    "my_env.render()"
   ]
  },
  {
   "cell_type": "markdown",
   "metadata": {},
   "source": [
    "#### Query remove"
   ]
  },
  {
   "cell_type": "markdown",
   "metadata": {},
   "source": [
    "As seen below we using the arguments to specify action, position and substructur/atom to be added. In order to remove based on a specifc feature factor feature we set 'remove' in the first positional argument position and set query with a numpy array contain all the feature factory features you want to remove. The envirnoment will then remove the first feature the satisfys the features specified."
   ]
  },
  {
   "cell_type": "code",
   "execution_count": null,
   "metadata": {},
   "outputs": [],
   "source": [
    "import numpy as np\n",
    "action.setAction('remove',query=np.array(['Arom6'])) \n",
    "my_env.step(action)\n",
    "my_env.render() "
   ]
  },
  {
   "cell_type": "markdown",
   "metadata": {},
   "source": [
    "In the example above we were able to remove a 6 atom aromatic ring a list of base featueres can be found in the BaseFeature.fdef file on github"
   ]
  },
  {
   "cell_type": "markdown",
   "metadata": {},
   "source": [
    "### Decision making "
   ]
  },
  {
   "cell_type": "markdown",
   "metadata": {},
   "source": [
    "In order to make an educated decision on the next a reinforcement learning computer agent needs to decide on the next step based on observations. This is information is collected by step method. "
   ]
  },
  {
   "cell_type": "markdown",
   "metadata": {},
   "source": [
    "#### Observations"
   ]
  },
  {
   "cell_type": "markdown",
   "metadata": {},
   "source": [
    "The step method returns two observations firstly the morgan finger print the in a unique identifyer and also categorises each 'feature' in the molecule. The morgan finger print is stored as an array of 1028 bits."
   ]
  },
  {
   "cell_type": "code",
   "execution_count": null,
   "metadata": {},
   "outputs": [],
   "source": [
    "action.setAction('Add',pos='front',mol='C1=CC=C1') \n",
    "obs = my_env.step(action)\n",
    "bits, info = obs.getInfo()"
   ]
  },
  {
   "cell_type": "code",
   "execution_count": null,
   "metadata": {},
   "outputs": [],
   "source": [
    "print ('bits =' + str(bits))\n",
    "print ('obs info =' + str (obs.getInfo()))"
   ]
  },
  {
   "cell_type": "markdown",
   "metadata": {},
   "source": [
    "### Rendering "
   ]
  },
  {
   "cell_type": "markdown",
   "metadata": {},
   "source": [
    "By running setting ui option to true you are able to render with an interactive UI set the positional argument true."
   ]
  },
  {
   "cell_type": "code",
   "execution_count": null,
   "metadata": {},
   "outputs": [],
   "source": [
    "my_env.render(True)"
   ]
  }
 ],
 "metadata": {
  "kernelspec": {
   "display_name": "Python [conda env:mol-env] *",
   "language": "python",
   "name": "conda-env-mol-env-py"
  },
  "language_info": {
   "codemirror_mode": {
    "name": "ipython",
    "version": 3
   },
   "file_extension": ".py",
   "mimetype": "text/x-python",
   "name": "python",
   "nbconvert_exporter": "python",
   "pygments_lexer": "ipython3",
   "version": "3.7.7"
  }
 },
 "nbformat": 4,
 "nbformat_minor": 4
}
